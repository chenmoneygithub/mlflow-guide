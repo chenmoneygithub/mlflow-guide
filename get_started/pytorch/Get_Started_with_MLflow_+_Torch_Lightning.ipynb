{
  "nbformat": 4,
  "nbformat_minor": 0,
  "metadata": {
    "colab": {
      "provenance": [],
      "gpuType": "T4"
    },
    "kernelspec": {
      "name": "python3",
      "display_name": "Python 3"
    },
    "language_info": {
      "name": "python"
    },
    "accelerator": "GPU",
    "widgets": {
      "application/vnd.jupyter.widget-state+json": {
        "57a4a2e0a9b64eedbd3097d62970678f": {
          "model_module": "@jupyter-widgets/controls",
          "model_name": "HBoxModel",
          "model_module_version": "1.5.0",
          "state": {
            "_dom_classes": [],
            "_model_module": "@jupyter-widgets/controls",
            "_model_module_version": "1.5.0",
            "_model_name": "HBoxModel",
            "_view_count": null,
            "_view_module": "@jupyter-widgets/controls",
            "_view_module_version": "1.5.0",
            "_view_name": "HBoxView",
            "box_style": "",
            "children": [
              "IPY_MODEL_1f46922b8a3149079474d0e82261de6b",
              "IPY_MODEL_bfc5fdfebbf7463381f465f90c359c18",
              "IPY_MODEL_ca1da5a25a90435ab2f4c967204022a7"
            ],
            "layout": "IPY_MODEL_01cbe8e2095b4fe49d6442582764449e"
          }
        },
        "1f46922b8a3149079474d0e82261de6b": {
          "model_module": "@jupyter-widgets/controls",
          "model_name": "HTMLModel",
          "model_module_version": "1.5.0",
          "state": {
            "_dom_classes": [],
            "_model_module": "@jupyter-widgets/controls",
            "_model_module_version": "1.5.0",
            "_model_name": "HTMLModel",
            "_view_count": null,
            "_view_module": "@jupyter-widgets/controls",
            "_view_module_version": "1.5.0",
            "_view_name": "HTMLView",
            "description": "",
            "description_tooltip": null,
            "layout": "IPY_MODEL_c4c43fc0c45c4adc8a877a902e7cd6da",
            "placeholder": "​",
            "style": "IPY_MODEL_43ea68fa0017406e833710708e6efdda",
            "value": "Epoch 2: 100%"
          }
        },
        "bfc5fdfebbf7463381f465f90c359c18": {
          "model_module": "@jupyter-widgets/controls",
          "model_name": "FloatProgressModel",
          "model_module_version": "1.5.0",
          "state": {
            "_dom_classes": [],
            "_model_module": "@jupyter-widgets/controls",
            "_model_module_version": "1.5.0",
            "_model_name": "FloatProgressModel",
            "_view_count": null,
            "_view_module": "@jupyter-widgets/controls",
            "_view_module_version": "1.5.0",
            "_view_name": "ProgressView",
            "bar_style": "success",
            "description": "",
            "description_tooltip": null,
            "layout": "IPY_MODEL_9a0fd01891c446e1b6ed4392ff3ea61a",
            "max": 782,
            "min": 0,
            "orientation": "horizontal",
            "style": "IPY_MODEL_bbd95c9ee444486ea63633a3f25e4beb",
            "value": 782
          }
        },
        "ca1da5a25a90435ab2f4c967204022a7": {
          "model_module": "@jupyter-widgets/controls",
          "model_name": "HTMLModel",
          "model_module_version": "1.5.0",
          "state": {
            "_dom_classes": [],
            "_model_module": "@jupyter-widgets/controls",
            "_model_module_version": "1.5.0",
            "_model_name": "HTMLModel",
            "_view_count": null,
            "_view_module": "@jupyter-widgets/controls",
            "_view_module_version": "1.5.0",
            "_view_name": "HTMLView",
            "description": "",
            "description_tooltip": null,
            "layout": "IPY_MODEL_2c424e488be8479295b5d4ae85052702",
            "placeholder": "​",
            "style": "IPY_MODEL_d9c52c5b24784dfa935dd6b9946d44f7",
            "value": " 782/782 [00:11&lt;00:00, 65.58it/s, v_num=1f38]"
          }
        },
        "01cbe8e2095b4fe49d6442582764449e": {
          "model_module": "@jupyter-widgets/base",
          "model_name": "LayoutModel",
          "model_module_version": "1.2.0",
          "state": {
            "_model_module": "@jupyter-widgets/base",
            "_model_module_version": "1.2.0",
            "_model_name": "LayoutModel",
            "_view_count": null,
            "_view_module": "@jupyter-widgets/base",
            "_view_module_version": "1.2.0",
            "_view_name": "LayoutView",
            "align_content": null,
            "align_items": null,
            "align_self": null,
            "border": null,
            "bottom": null,
            "display": "inline-flex",
            "flex": null,
            "flex_flow": "row wrap",
            "grid_area": null,
            "grid_auto_columns": null,
            "grid_auto_flow": null,
            "grid_auto_rows": null,
            "grid_column": null,
            "grid_gap": null,
            "grid_row": null,
            "grid_template_areas": null,
            "grid_template_columns": null,
            "grid_template_rows": null,
            "height": null,
            "justify_content": null,
            "justify_items": null,
            "left": null,
            "margin": null,
            "max_height": null,
            "max_width": null,
            "min_height": null,
            "min_width": null,
            "object_fit": null,
            "object_position": null,
            "order": null,
            "overflow": null,
            "overflow_x": null,
            "overflow_y": null,
            "padding": null,
            "right": null,
            "top": null,
            "visibility": null,
            "width": "100%"
          }
        },
        "c4c43fc0c45c4adc8a877a902e7cd6da": {
          "model_module": "@jupyter-widgets/base",
          "model_name": "LayoutModel",
          "model_module_version": "1.2.0",
          "state": {
            "_model_module": "@jupyter-widgets/base",
            "_model_module_version": "1.2.0",
            "_model_name": "LayoutModel",
            "_view_count": null,
            "_view_module": "@jupyter-widgets/base",
            "_view_module_version": "1.2.0",
            "_view_name": "LayoutView",
            "align_content": null,
            "align_items": null,
            "align_self": null,
            "border": null,
            "bottom": null,
            "display": null,
            "flex": null,
            "flex_flow": null,
            "grid_area": null,
            "grid_auto_columns": null,
            "grid_auto_flow": null,
            "grid_auto_rows": null,
            "grid_column": null,
            "grid_gap": null,
            "grid_row": null,
            "grid_template_areas": null,
            "grid_template_columns": null,
            "grid_template_rows": null,
            "height": null,
            "justify_content": null,
            "justify_items": null,
            "left": null,
            "margin": null,
            "max_height": null,
            "max_width": null,
            "min_height": null,
            "min_width": null,
            "object_fit": null,
            "object_position": null,
            "order": null,
            "overflow": null,
            "overflow_x": null,
            "overflow_y": null,
            "padding": null,
            "right": null,
            "top": null,
            "visibility": null,
            "width": null
          }
        },
        "43ea68fa0017406e833710708e6efdda": {
          "model_module": "@jupyter-widgets/controls",
          "model_name": "DescriptionStyleModel",
          "model_module_version": "1.5.0",
          "state": {
            "_model_module": "@jupyter-widgets/controls",
            "_model_module_version": "1.5.0",
            "_model_name": "DescriptionStyleModel",
            "_view_count": null,
            "_view_module": "@jupyter-widgets/base",
            "_view_module_version": "1.2.0",
            "_view_name": "StyleView",
            "description_width": ""
          }
        },
        "9a0fd01891c446e1b6ed4392ff3ea61a": {
          "model_module": "@jupyter-widgets/base",
          "model_name": "LayoutModel",
          "model_module_version": "1.2.0",
          "state": {
            "_model_module": "@jupyter-widgets/base",
            "_model_module_version": "1.2.0",
            "_model_name": "LayoutModel",
            "_view_count": null,
            "_view_module": "@jupyter-widgets/base",
            "_view_module_version": "1.2.0",
            "_view_name": "LayoutView",
            "align_content": null,
            "align_items": null,
            "align_self": null,
            "border": null,
            "bottom": null,
            "display": null,
            "flex": "2",
            "flex_flow": null,
            "grid_area": null,
            "grid_auto_columns": null,
            "grid_auto_flow": null,
            "grid_auto_rows": null,
            "grid_column": null,
            "grid_gap": null,
            "grid_row": null,
            "grid_template_areas": null,
            "grid_template_columns": null,
            "grid_template_rows": null,
            "height": null,
            "justify_content": null,
            "justify_items": null,
            "left": null,
            "margin": null,
            "max_height": null,
            "max_width": null,
            "min_height": null,
            "min_width": null,
            "object_fit": null,
            "object_position": null,
            "order": null,
            "overflow": null,
            "overflow_x": null,
            "overflow_y": null,
            "padding": null,
            "right": null,
            "top": null,
            "visibility": null,
            "width": null
          }
        },
        "bbd95c9ee444486ea63633a3f25e4beb": {
          "model_module": "@jupyter-widgets/controls",
          "model_name": "ProgressStyleModel",
          "model_module_version": "1.5.0",
          "state": {
            "_model_module": "@jupyter-widgets/controls",
            "_model_module_version": "1.5.0",
            "_model_name": "ProgressStyleModel",
            "_view_count": null,
            "_view_module": "@jupyter-widgets/base",
            "_view_module_version": "1.2.0",
            "_view_name": "StyleView",
            "bar_color": null,
            "description_width": ""
          }
        },
        "2c424e488be8479295b5d4ae85052702": {
          "model_module": "@jupyter-widgets/base",
          "model_name": "LayoutModel",
          "model_module_version": "1.2.0",
          "state": {
            "_model_module": "@jupyter-widgets/base",
            "_model_module_version": "1.2.0",
            "_model_name": "LayoutModel",
            "_view_count": null,
            "_view_module": "@jupyter-widgets/base",
            "_view_module_version": "1.2.0",
            "_view_name": "LayoutView",
            "align_content": null,
            "align_items": null,
            "align_self": null,
            "border": null,
            "bottom": null,
            "display": null,
            "flex": null,
            "flex_flow": null,
            "grid_area": null,
            "grid_auto_columns": null,
            "grid_auto_flow": null,
            "grid_auto_rows": null,
            "grid_column": null,
            "grid_gap": null,
            "grid_row": null,
            "grid_template_areas": null,
            "grid_template_columns": null,
            "grid_template_rows": null,
            "height": null,
            "justify_content": null,
            "justify_items": null,
            "left": null,
            "margin": null,
            "max_height": null,
            "max_width": null,
            "min_height": null,
            "min_width": null,
            "object_fit": null,
            "object_position": null,
            "order": null,
            "overflow": null,
            "overflow_x": null,
            "overflow_y": null,
            "padding": null,
            "right": null,
            "top": null,
            "visibility": null,
            "width": null
          }
        },
        "d9c52c5b24784dfa935dd6b9946d44f7": {
          "model_module": "@jupyter-widgets/controls",
          "model_name": "DescriptionStyleModel",
          "model_module_version": "1.5.0",
          "state": {
            "_model_module": "@jupyter-widgets/controls",
            "_model_module_version": "1.5.0",
            "_model_name": "DescriptionStyleModel",
            "_view_count": null,
            "_view_module": "@jupyter-widgets/base",
            "_view_module_version": "1.2.0",
            "_view_name": "StyleView",
            "description_width": ""
          }
        }
      }
    }
  },
  "cells": [
    {
      "cell_type": "markdown",
      "source": [
        "# Get Started with MLflow + Torch Lightning\n",
        "\n",
        "**Author:** Chen Qian<br>\n",
        "**Date created:** 2023/09/05<br>\n",
        "**Last modified:** 2023/09/05<br>"
      ],
      "metadata": {
        "id": "FVfNPpvPMhaH"
      }
    },
    {
      "cell_type": "markdown",
      "source": [
        "In this guide, we will show how to train your model with PyTorch + Lightning and track your training using MLflow.\n",
        "\n",
        "For metrics visualization, we will use [Databricks Community Edition](https://community.cloud.databricks.com/), which is completely free. If you haven't, please register an account via [link](https://www.databricks.com/try-databricks), we will use it later.\n",
        "\n",
        "We recommend turn on the free-tier GPU in Colab by **Edit -> notebook settings -> Hardware Accelerator**, it will significanly shorten the time cost."
      ],
      "metadata": {
        "id": "F1gbr1boMm6s"
      }
    },
    {
      "cell_type": "markdown",
      "source": [
        "## Install dependencies\n",
        "\n",
        "Let's install the `mlflow` package."
      ],
      "metadata": {
        "id": "p-FVDztIMstH"
      }
    },
    {
      "cell_type": "code",
      "execution_count": null,
      "metadata": {
        "colab": {
          "base_uri": "https://localhost:8080/"
        },
        "id": "Z5i_ZUbXFxDV",
        "outputId": "2f61370c-8c42-469e-96f1-3f7a478eb2d6"
      },
      "outputs": [
        {
          "output_type": "stream",
          "name": "stdout",
          "text": [
            "\u001b[2K     \u001b[90m━━━━━━━━━━━━━━━━━━━━━━━━━━━━━━━━━━━━━━━━\u001b[0m \u001b[32m18.3/18.3 MB\u001b[0m \u001b[31m40.6 MB/s\u001b[0m eta \u001b[36m0:00:00\u001b[0m\n",
            "\u001b[2K     \u001b[90m━━━━━━━━━━━━━━━━━━━━━━━━━━━━━━━━━━━━━━━━\u001b[0m \u001b[32m83.5/83.5 kB\u001b[0m \u001b[31m10.7 MB/s\u001b[0m eta \u001b[36m0:00:00\u001b[0m\n",
            "\u001b[?25h  Preparing metadata (setup.py) ... \u001b[?25l\u001b[?25hdone\n",
            "\u001b[2K     \u001b[90m━━━━━━━━━━━━━━━━━━━━━━━━━━━━━━━━━━━━━━━\u001b[0m \u001b[32m188.5/188.5 kB\u001b[0m \u001b[31m9.6 MB/s\u001b[0m eta \u001b[36m0:00:00\u001b[0m\n",
            "\u001b[2K     \u001b[90m━━━━━━━━━━━━━━━━━━━━━━━━━━━━━━━━━━━━━━\u001b[0m \u001b[32m225.4/225.4 kB\u001b[0m \u001b[31m22.7 MB/s\u001b[0m eta \u001b[36m0:00:00\u001b[0m\n",
            "\u001b[2K     \u001b[90m━━━━━━━━━━━━━━━━━━━━━━━━━━━━━━━━━━━━━━\u001b[0m \u001b[32m148.1/148.1 kB\u001b[0m \u001b[31m18.9 MB/s\u001b[0m eta \u001b[36m0:00:00\u001b[0m\n",
            "\u001b[2K     \u001b[90m━━━━━━━━━━━━━━━━━━━━━━━━━━━━━━━━━━━━━━━━\u001b[0m \u001b[32m80.2/80.2 kB\u001b[0m \u001b[31m9.4 MB/s\u001b[0m eta \u001b[36m0:00:00\u001b[0m\n",
            "\u001b[2K     \u001b[90m━━━━━━━━━━━━━━━━━━━━━━━━━━━━━━━━━━━━━━━━\u001b[0m \u001b[32m78.7/78.7 kB\u001b[0m \u001b[31m9.5 MB/s\u001b[0m eta \u001b[36m0:00:00\u001b[0m\n",
            "\u001b[2K     \u001b[90m━━━━━━━━━━━━━━━━━━━━━━━━━━━━━━━━━━━━━━\u001b[0m \u001b[32m143.1/143.1 kB\u001b[0m \u001b[31m18.4 MB/s\u001b[0m eta \u001b[36m0:00:00\u001b[0m\n",
            "\u001b[2K     \u001b[90m━━━━━━━━━━━━━━━━━━━━━━━━━━━━━━━━━━━━━━━━\u001b[0m \u001b[32m62.7/62.7 kB\u001b[0m \u001b[31m7.6 MB/s\u001b[0m eta \u001b[36m0:00:00\u001b[0m\n",
            "\u001b[?25h  Building wheel for databricks-cli (setup.py) ... \u001b[?25l\u001b[?25hdone\n"
          ]
        }
      ],
      "source": [
        "!pip install -q lightning datasets mlflow"
      ]
    },
    {
      "cell_type": "code",
      "source": [
        "!pip install -q pydantic==1.10.11"
      ],
      "metadata": {
        "colab": {
          "base_uri": "https://localhost:8080/"
        },
        "id": "1SKEnSKOIjS8",
        "outputId": "31c4b34a-e486-45d9-d37b-6a6246cf8da8"
      },
      "execution_count": null,
      "outputs": [
        {
          "output_type": "stream",
          "name": "stdout",
          "text": [
            "\u001b[2K     \u001b[90m━━━━━━━━━━━━━━━━━━━━━━━━━━━━━━━━━━━━━━━━\u001b[0m \u001b[32m3.1/3.1 MB\u001b[0m \u001b[31m11.0 MB/s\u001b[0m eta \u001b[36m0:00:00\u001b[0m\n",
            "\u001b[?25h"
          ]
        }
      ]
    },
    {
      "cell_type": "code",
      "source": [
        "import lightning.pytorch as pl\n",
        "import torch\n",
        "from torch import nn\n",
        "from torch.nn import functional as F\n",
        "\n",
        "BATCH_SIZE = 256 if torch.cuda.is_available() else 64"
      ],
      "metadata": {
        "id": "YcsUcdjTF9t9"
      },
      "execution_count": null,
      "outputs": []
    },
    {
      "cell_type": "markdown",
      "source": [
        "## Load the dataset\n",
        "\n",
        "We will do a simple image classification on handwritten digits with [mnist dataset](https://en.wikipedia.org/wiki/MNIST_database).\n",
        "\n",
        "Let's load the dataset from `torchvision`, and convert it into a [`Dataloader`](https://pytorch.org/tutorials/beginner/basics/data_tutorial.html), which provides nice data preprocessing features like batching."
      ],
      "metadata": {
        "id": "Dw9XQddWM0Op"
      }
    },
    {
      "cell_type": "code",
      "source": [
        "from torchvision.datasets import MNIST\n",
        "from torchvision.transforms import ToTensor\n",
        "import os\n",
        "\n",
        "dataset = MNIST(os.getcwd(), download=True, transform=ToTensor())\n",
        "train_set, val_set = torch.utils.data.random_split(dataset, [50000, 10000])\n",
        "train_loader = torch.utils.data.DataLoader(train_set, batch_size=64)\n",
        "val_loader = torch.utils.data.DataLoader(val_set, batch_size=64)"
      ],
      "metadata": {
        "id": "kjcFw8VfrVXV"
      },
      "execution_count": null,
      "outputs": []
    },
    {
      "cell_type": "markdown",
      "source": [
        "## Define the Model\n",
        "\n",
        "Let's define a convolutional neural network as our classifier. In order to use Lightning to train our model, the model class should subclass from `LightningModule`. In short, `LightningModule` is `torch.nn.Module` plus training support, including loss computation, optimizer configuration and so on."
      ],
      "metadata": {
        "id": "Oy9JbFGaNHwB"
      }
    },
    {
      "cell_type": "code",
      "source": [
        "class MnistClassifier(pl.LightningModule):\n",
        "    def __init__(self):\n",
        "        super().__init__()\n",
        "        self.conv1 = nn.Conv2d(1, 32, (3, 3))\n",
        "        self.conv2 = nn.Conv2d(32, 64, (3, 3))\n",
        "        self.pool = nn.MaxPool2d(2, 2)\n",
        "        self.linear = nn.LazyLinear(10)\n",
        "        self.dropout = nn.Dropout()\n",
        "\n",
        "    def forward(self, x):\n",
        "        x = self.pool(F.relu(self.conv1(x)))\n",
        "        x = self.pool(F.relu(self.conv2(x)))\n",
        "        x = torch.flatten(x, 1)\n",
        "        x = self.linear(x)\n",
        "        return self.dropout(x)\n",
        "\n",
        "    def training_step(self, batch, batch_idx):\n",
        "        x, y = batch\n",
        "        loss = F.cross_entropy(self(x), y)\n",
        "        self.log(\"train_loss\", loss)\n",
        "        return loss\n",
        "\n",
        "    def configure_optimizers(self):\n",
        "        return torch.optim.Adam(self.parameters(), lr=0.001)"
      ],
      "metadata": {
        "id": "nMhwDTiqIhPA"
      },
      "execution_count": null,
      "outputs": []
    },
    {
      "cell_type": "markdown",
      "source": [
        "## Set up tracking/visualization tool\n",
        "\n",
        "If you have not, please register an account of [Databricks community edition](https://www.databricks.com/try-databricks#account). It should take no longer than 1min to register.\n",
        "\n",
        "Databricks CE (community edition) is a free platform for users to try out Databricks features. For this guide, we need the ML experiment dashboard for us to track our training progress."
      ],
      "metadata": {
        "id": "p4jQn2lpNz3F"
      }
    },
    {
      "cell_type": "markdown",
      "source": [
        "After you have sucessfully registered an account, all you need to do is to run the command below to connect from Google Colab to your Databricks account. You will need to enter following information at prompt:\n",
        "- **Databricks Host**: https://community.cloud.databricks.com/\n",
        "- **Username**: your signed up email\n",
        "- **Password**: your password"
      ],
      "metadata": {
        "id": "_jgZMitVx0or"
      }
    },
    {
      "cell_type": "code",
      "source": [
        "!databricks configure"
      ],
      "metadata": {
        "colab": {
          "base_uri": "https://localhost:8080/"
        },
        "id": "5rUzlKlLvoqb",
        "outputId": "e84f1b70-1409-41a8-c6fc-81a47f15c592"
      },
      "execution_count": null,
      "outputs": [
        {
          "output_type": "stream",
          "name": "stdout",
          "text": [
            "Databricks Host (should begin with https://): https://community.cloud.databricks.com/\n",
            "Username: qianchen94era@gmail.com\n",
            "Password: \n",
            "Repeat for confirmation: \n"
          ]
        }
      ]
    },
    {
      "cell_type": "markdown",
      "source": [
        "Now this colab is connected to the hosted tracking server. In order to log to mlflow inside a Lightning pipeline, we need to instantiate a `lightning.pytorch.loggers.MLFlowLogger` instance. We need to specify the experiment name and tracking uri:\n",
        "- `mlflow.set_tracking_uri`: **always use \"databricks\"**.\n",
        "- `mlflow.set_experiment`: pick up a name you like, start with `/`."
      ],
      "metadata": {
        "id": "6aYBb9CyN2UG"
      }
    },
    {
      "cell_type": "code",
      "source": [
        "import mlflow\n",
        "from lightning.pytorch.loggers import MLFlowLogger\n",
        "\n",
        "mlflow_logger = MLFlowLogger(\n",
        "    experiment_name=\"/mlflow-torch-lightning-mnist\",\n",
        "    tracking_uri=\"databricks\",\n",
        ")"
      ],
      "metadata": {
        "id": "TRS6Gp6jx2Nz"
      },
      "execution_count": null,
      "outputs": []
    },
    {
      "cell_type": "markdown",
      "source": [
        "Create our model and `pytorch_lightning.Trainer` instance, and set the logger as the `mlflow_logger` we defined above. After bootstrapping these together, we can start the training, and it will automatically log the training into MLflow. The visualization dashboard could be found on Databricks CE."
      ],
      "metadata": {
        "id": "J89FIbTSOSZ-"
      }
    },
    {
      "cell_type": "code",
      "source": [
        "classifier = MnistClassifier()\n",
        "\n",
        "trainer = pl.Trainer(max_epochs=3, logger=mlflow_logger)\n",
        "trainer.fit(\n",
        "    model=classifier,\n",
        "    train_dataloaders=train_loader,\n",
        "    val_dataloaders=val_loader,\n",
        ")"
      ],
      "metadata": {
        "colab": {
          "base_uri": "https://localhost:8080/",
          "height": 853,
          "referenced_widgets": [
            "57a4a2e0a9b64eedbd3097d62970678f",
            "1f46922b8a3149079474d0e82261de6b",
            "bfc5fdfebbf7463381f465f90c359c18",
            "ca1da5a25a90435ab2f4c967204022a7",
            "01cbe8e2095b4fe49d6442582764449e",
            "c4c43fc0c45c4adc8a877a902e7cd6da",
            "43ea68fa0017406e833710708e6efdda",
            "9a0fd01891c446e1b6ed4392ff3ea61a",
            "bbd95c9ee444486ea63633a3f25e4beb",
            "2c424e488be8479295b5d4ae85052702",
            "d9c52c5b24784dfa935dd6b9946d44f7"
          ]
        },
        "id": "FtqgI87mylBs",
        "outputId": "b164405c-7e47-4f57-c38d-4ce9530810f7"
      },
      "execution_count": null,
      "outputs": [
        {
          "output_type": "stream",
          "name": "stderr",
          "text": [
            "/usr/local/lib/python3.10/dist-packages/torch/nn/modules/lazy.py:180: UserWarning: Lazy modules are a new feature under heavy development so changes to the API or functionality can happen at any moment.\n",
            "  warnings.warn('Lazy modules are a new feature under heavy development '\n",
            "INFO: GPU available: True (cuda), used: True\n",
            "INFO:lightning.pytorch.utilities.rank_zero:GPU available: True (cuda), used: True\n",
            "INFO: TPU available: False, using: 0 TPU cores\n",
            "INFO:lightning.pytorch.utilities.rank_zero:TPU available: False, using: 0 TPU cores\n",
            "INFO: IPU available: False, using: 0 IPUs\n",
            "INFO:lightning.pytorch.utilities.rank_zero:IPU available: False, using: 0 IPUs\n",
            "INFO: HPU available: False, using: 0 HPUs\n",
            "INFO:lightning.pytorch.utilities.rank_zero:HPU available: False, using: 0 HPUs\n",
            "/usr/local/lib/python3.10/dist-packages/lightning/pytorch/trainer/configuration_validator.py:69: UserWarning: You passed in a `val_dataloader` but have no `validation_step`. Skipping val loop.\n",
            "  rank_zero_warn(\"You passed in a `val_dataloader` but have no `validation_step`. Skipping val loop.\")\n",
            "INFO: LOCAL_RANK: 0 - CUDA_VISIBLE_DEVICES: [0]\n",
            "INFO:lightning.pytorch.accelerators.cuda:LOCAL_RANK: 0 - CUDA_VISIBLE_DEVICES: [0]\n",
            "/usr/local/lib/python3.10/dist-packages/lightning/pytorch/utilities/model_summary/model_summary.py:415: UserWarning: A layer with UninitializedParameter was found. Thus, the total number of parameters detected may be inaccurate.\n",
            "  warning_cache.warn(\n",
            "INFO: \n",
            "  | Name    | Type       | Params\n",
            "---------------------------------------\n",
            "0 | conv1   | Conv2d     | 320   \n",
            "1 | conv2   | Conv2d     | 18.5 K\n",
            "2 | pool    | MaxPool2d  | 0     \n",
            "3 | linear  | LazyLinear | 0     \n",
            "4 | dropout | Dropout    | 0     \n",
            "---------------------------------------\n",
            "18.8 K    Trainable params\n",
            "0         Non-trainable params\n",
            "18.8 K    Total params\n",
            "0.075     Total estimated model params size (MB)\n",
            "INFO:lightning.pytorch.callbacks.model_summary:\n",
            "  | Name    | Type       | Params\n",
            "---------------------------------------\n",
            "0 | conv1   | Conv2d     | 320   \n",
            "1 | conv2   | Conv2d     | 18.5 K\n",
            "2 | pool    | MaxPool2d  | 0     \n",
            "3 | linear  | LazyLinear | 0     \n",
            "4 | dropout | Dropout    | 0     \n",
            "---------------------------------------\n",
            "18.8 K    Trainable params\n",
            "0         Non-trainable params\n",
            "18.8 K    Total params\n",
            "0.075     Total estimated model params size (MB)\n"
          ]
        },
        {
          "output_type": "display_data",
          "data": {
            "text/plain": [
              "Training: 0it [00:00, ?it/s]"
            ],
            "application/vnd.jupyter.widget-view+json": {
              "version_major": 2,
              "version_minor": 0,
              "model_id": "57a4a2e0a9b64eedbd3097d62970678f"
            }
          },
          "metadata": {}
        },
        {
          "output_type": "stream",
          "name": "stderr",
          "text": [
            "INFO: `Trainer.fit` stopped: `max_epochs=3` reached.\n",
            "INFO:lightning.pytorch.utilities.rank_zero:`Trainer.fit` stopped: `max_epochs=3` reached.\n"
          ]
        }
      ]
    },
    {
      "cell_type": "markdown",
      "source": [
        "While your training is ongoing, you can find this training in your dashboard. Log in to your [Databricks CE](https://community.cloud.databricks.com/) account, and click on top left to select machine learning in the drop down list. Then click on the experiment icon. See the screenshot below:\n",
        "![landing page](https://drive.google.com/uc?export=view&id=1QxVaolr-L-w96pKUOiYQut3aSRE-04tC)\n",
        "\n",
        "After clicking the `Experiment` button, it will bring you to the experiment page, where you can find your runs. Clicking on the most recent experiment and run, you can find your metrics there, similar to:\n",
        "![experiment page](https://drive.google.com/uc?export=view&id=1FyJUD6JDHADGn_gN62Syo6lUSkTA0stp)\n",
        "\n",
        "You can click on metrics to see the chart."
      ],
      "metadata": {
        "id": "zraaAJpmOrNr"
      }
    }
  ]
}